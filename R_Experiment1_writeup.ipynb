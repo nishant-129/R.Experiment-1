{
  "nbformat": 4,
  "nbformat_minor": 0,
  "metadata": {
    "colab": {
      "name": "R_Experiment1_writeup.ipynb",
      "provenance": [],
      "collapsed_sections": []
    },
    "kernelspec": {
      "name": "ir",
      "display_name": "R"
    }
  },
  "cells": [
    {
      "cell_type": "markdown",
      "metadata": {
        "id": "ID8ytqkhyQUI"
      },
      "source": [
        "**Basics of R Programming**\n",
        "\n",
        "Let us learn basic building blocks of the R programming language.\n",
        "\n",
        "In most comman way R can be though as an interactive calculator.\n",
        "\n",
        "Try executing following code block\n"
      ]
    },
    {
      "cell_type": "code",
      "metadata": {
        "colab": {
          "base_uri": "https://localhost:8080/",
          "height": 34
        },
        "id": "laFgRgayS6Yq",
        "outputId": "a04074db-afbd-4fbd-8927-5957fae18ec1"
      },
      "source": [
        "#Code cell\n",
        "5*7"
      ],
      "execution_count": 20,
      "outputs": [
        {
          "output_type": "display_data",
          "data": {
            "text/plain": [
              "[1] 35"
            ],
            "text/latex": "35",
            "text/markdown": "35",
            "text/html": [
              "35"
            ]
          },
          "metadata": {
            "tags": []
          }
        }
      ]
    },
    {
      "cell_type": "code",
      "metadata": {
        "colab": {
          "base_uri": "https://localhost:8080/",
          "height": 34
        },
        "id": "_ToRK7PP16VG",
        "outputId": "11abe2b7-4eef-4596-d31b-d4ab00f6c233"
      },
      "source": [
        "typeof(12)"
      ],
      "execution_count": 21,
      "outputs": [
        {
          "output_type": "display_data",
          "data": {
            "text/plain": [
              "[1] \"double\""
            ],
            "text/latex": "'double'",
            "text/markdown": "'double'",
            "text/html": [
              "'double'"
            ]
          },
          "metadata": {
            "tags": []
          }
        }
      ]
    },
    {
      "cell_type": "markdown",
      "metadata": {
        "id": "dwkEL9UGTdDu"
      },
      "source": [
        " **Store computed value in a variable**\n",
        "\n",
        " The way you assign a value to a variable in R is by using the assignment operator, which is just a 'less than'symbol followed by a 'minus' sign. It looks like this: <-"
      ]
    },
    {
      "cell_type": "code",
      "metadata": {
        "id": "uoJ8DVxkT1cq",
        "colab": {
          "base_uri": "https://localhost:8080/",
          "height": 34
        },
        "outputId": "a10898e2-51c6-49d6-fd2d-93e5e9a49dec"
      },
      "source": [
        "#Store result of 5+7 in varible c\n",
        "c<-5+8*6\n",
        "c"
      ],
      "execution_count": 22,
      "outputs": [
        {
          "output_type": "display_data",
          "data": {
            "text/plain": [
              "[1] 53"
            ],
            "text/latex": "53",
            "text/markdown": "53",
            "text/html": [
              "53"
            ]
          },
          "metadata": {
            "tags": []
          }
        }
      ]
    },
    {
      "cell_type": "code",
      "metadata": {
        "colab": {
          "base_uri": "https://localhost:8080/",
          "height": 34
        },
        "id": "51YX5Hh-13Fk",
        "outputId": "2917bbd6-cbc1-4cb8-a113-c57b3cdec8d8"
      },
      "source": [
        "typeof(c)"
      ],
      "execution_count": 23,
      "outputs": [
        {
          "output_type": "display_data",
          "data": {
            "text/plain": [
              "[1] \"double\""
            ],
            "text/latex": "'double'",
            "text/markdown": "'double'",
            "text/html": [
              "'double'"
            ]
          },
          "metadata": {
            "tags": []
          }
        }
      ]
    },
    {
      "cell_type": "markdown",
      "metadata": {
        "id": "J3OsGT5RV-8v"
      },
      "source": [
        "We can further use variable c in another exrpession to create variable b which is 1 excess that one fourth of value of c"
      ]
    },
    {
      "cell_type": "code",
      "metadata": {
        "colab": {
          "base_uri": "https://localhost:8080/",
          "height": 51
        },
        "id": "5jf2aI3KT1qj",
        "outputId": "c56785c2-3e28-4f7c-95f6-ac38867aa861"
      },
      "source": [
        "b<-c/4+1\n",
        "b \n",
        "d=c/4+1\n",
        "d"
      ],
      "execution_count": 24,
      "outputs": [
        {
          "output_type": "display_data",
          "data": {
            "text/plain": [
              "[1] 14.25"
            ],
            "text/latex": "14.25",
            "text/markdown": "14.25",
            "text/html": [
              "14.25"
            ]
          },
          "metadata": {
            "tags": []
          }
        },
        {
          "output_type": "display_data",
          "data": {
            "text/plain": [
              "[1] 14.25"
            ],
            "text/latex": "14.25",
            "text/markdown": "14.25",
            "text/html": [
              "14.25"
            ]
          },
          "metadata": {
            "tags": []
          }
        }
      ]
    },
    {
      "cell_type": "code",
      "metadata": {
        "colab": {
          "base_uri": "https://localhost:8080/",
          "height": 51
        },
        "id": "Ngf878ZR2GB6",
        "outputId": "35d26060-b243-4613-a610-bfed5dce43fa"
      },
      "source": [
        "typeof(b)\n",
        "typeof(d)\n"
      ],
      "execution_count": 25,
      "outputs": [
        {
          "output_type": "display_data",
          "data": {
            "text/plain": [
              "[1] \"double\""
            ],
            "text/latex": "'double'",
            "text/markdown": "'double'",
            "text/html": [
              "'double'"
            ]
          },
          "metadata": {
            "tags": []
          }
        },
        {
          "output_type": "display_data",
          "data": {
            "text/plain": [
              "[1] \"double\""
            ],
            "text/latex": "'double'",
            "text/markdown": "'double'",
            "text/html": [
              "'double'"
            ]
          },
          "metadata": {
            "tags": []
          }
        }
      ]
    },
    {
      "cell_type": "markdown",
      "metadata": {
        "id": "1E01QTsy05p_"
      },
      "source": [
        "**Creation of Vector**\n",
        "\n",
        "The easiest way to create a vector is with the c() function, which stands for 'concatenate' or 'combine'. \n",
        "\n",
        " To create a vector containing the numbers 1.1, 9, and 3.14, type c(1.1, 9, 3.14). Try it now and store the result in a variable called z in following code block. "
      ]
    },
    {
      "cell_type": "code",
      "metadata": {
        "colab": {
          "base_uri": "https://localhost:8080/",
          "height": 51
        },
        "id": "Dgx9ap0OT12g",
        "outputId": "d4d62c8e-6a2b-48d5-96bf-1fa8007e3f4c"
      },
      "source": [
        "z <- c(1.1, 9, 'dhg')\n",
        "z\n",
        "z1 <- c(1.1, 9, 5,566,4564.545646)\n",
        "z1\n"
      ],
      "execution_count": 26,
      "outputs": [
        {
          "output_type": "display_data",
          "data": {
            "text/plain": [
              "[1] \"1.1\" \"9\"   \"dhg\""
            ],
            "text/latex": "\\begin{enumerate*}\n\\item '1.1'\n\\item '9'\n\\item 'dhg'\n\\end{enumerate*}\n",
            "text/markdown": "1. '1.1'\n2. '9'\n3. 'dhg'\n\n\n",
            "text/html": [
              "<style>\n",
              ".list-inline {list-style: none; margin:0; padding: 0}\n",
              ".list-inline>li {display: inline-block}\n",
              ".list-inline>li:not(:last-child)::after {content: \"\\00b7\"; padding: 0 .5ex}\n",
              "</style>\n",
              "<ol class=list-inline><li>'1.1'</li><li>'9'</li><li>'dhg'</li></ol>\n"
            ]
          },
          "metadata": {
            "tags": []
          }
        },
        {
          "output_type": "display_data",
          "data": {
            "text/plain": [
              "[1]    1.100    9.000    5.000  566.000 4564.546"
            ],
            "text/latex": "\\begin{enumerate*}\n\\item 1.1\n\\item 9\n\\item 5\n\\item 566\n\\item 4564.545646\n\\end{enumerate*}\n",
            "text/markdown": "1. 1.1\n2. 9\n3. 5\n4. 566\n5. 4564.545646\n\n\n",
            "text/html": [
              "<style>\n",
              ".list-inline {list-style: none; margin:0; padding: 0}\n",
              ".list-inline>li {display: inline-block}\n",
              ".list-inline>li:not(:last-child)::after {content: \"\\00b7\"; padding: 0 .5ex}\n",
              "</style>\n",
              "<ol class=list-inline><li>1.1</li><li>9</li><li>5</li><li>566</li><li>4564.545646</li></ol>\n"
            ]
          },
          "metadata": {
            "tags": []
          }
        }
      ]
    },
    {
      "cell_type": "code",
      "metadata": {
        "colab": {
          "base_uri": "https://localhost:8080/",
          "height": 68
        },
        "id": "2WTysXG82Mnt",
        "outputId": "3ca02f6a-67b3-4ab9-c776-ce65326ee8a8"
      },
      "source": [
        "typeof(z)\n",
        "typeof(z1)\n",
        "class(z)"
      ],
      "execution_count": 27,
      "outputs": [
        {
          "output_type": "display_data",
          "data": {
            "text/plain": [
              "[1] \"character\""
            ],
            "text/latex": "'character'",
            "text/markdown": "'character'",
            "text/html": [
              "'character'"
            ]
          },
          "metadata": {
            "tags": []
          }
        },
        {
          "output_type": "display_data",
          "data": {
            "text/plain": [
              "[1] \"double\""
            ],
            "text/latex": "'double'",
            "text/markdown": "'double'",
            "text/html": [
              "'double'"
            ]
          },
          "metadata": {
            "tags": []
          }
        },
        {
          "output_type": "display_data",
          "data": {
            "text/plain": [
              "[1] \"character\""
            ],
            "text/latex": "'character'",
            "text/markdown": "'character'",
            "text/html": [
              "'character'"
            ]
          },
          "metadata": {
            "tags": []
          }
        }
      ]
    },
    {
      "cell_type": "code",
      "metadata": {
        "colab": {
          "base_uri": "https://localhost:8080/",
          "height": 34
        },
        "id": "-Xl8TbUC3AWV",
        "outputId": "b221b625-9d1d-4ee4-a0fd-b9f7b5b64852"
      },
      "source": [
        "z"
      ],
      "execution_count": 28,
      "outputs": [
        {
          "output_type": "display_data",
          "data": {
            "text/plain": [
              "[1] \"1.1\" \"9\"   \"dhg\""
            ],
            "text/latex": "\\begin{enumerate*}\n\\item '1.1'\n\\item '9'\n\\item 'dhg'\n\\end{enumerate*}\n",
            "text/markdown": "1. '1.1'\n2. '9'\n3. 'dhg'\n\n\n",
            "text/html": [
              "<style>\n",
              ".list-inline {list-style: none; margin:0; padding: 0}\n",
              ".list-inline>li {display: inline-block}\n",
              ".list-inline>li:not(:last-child)::after {content: \"\\00b7\"; padding: 0 .5ex}\n",
              "</style>\n",
              "<ol class=list-inline><li>'1.1'</li><li>'9'</li><li>'dhg'</li></ol>\n"
            ]
          },
          "metadata": {
            "tags": []
          }
        }
      ]
    },
    {
      "cell_type": "code",
      "metadata": {
        "id": "-0bEqCrA2OGa"
      },
      "source": [
        "#Get Documentation about concatinate\n",
        "?c\n",
        "#help(c)"
      ],
      "execution_count": 29,
      "outputs": []
    },
    {
      "cell_type": "markdown",
      "metadata": {
        "id": "wIk26TAl3Uww"
      },
      "source": [
        "You can combine vectors to make a new vector. \n",
        "\n",
        "Create a new vector that contains z, 555, then z again in that order. Don't assign this vector to a new variable, so that we can just see the result immediately."
      ]
    },
    {
      "cell_type": "code",
      "metadata": {
        "colab": {
          "base_uri": "https://localhost:8080/",
          "height": 34
        },
        "id": "ijGw7IF73AoV",
        "outputId": "1c025ec7-3749-4f81-ff85-907f35df1a88"
      },
      "source": [
        "d <-c(z,555,z)\r\n",
        "length(d)"
      ],
      "execution_count": 30,
      "outputs": [
        {
          "output_type": "display_data",
          "data": {
            "text/plain": [
              "[1] 7"
            ],
            "text/latex": "7",
            "text/markdown": "7",
            "text/html": [
              "7"
            ]
          },
          "metadata": {
            "tags": []
          }
        }
      ]
    },
    {
      "cell_type": "code",
      "metadata": {
        "id": "2nrXSHBjSFQ4"
      },
      "source": [
        "z<-c(3,6,5)"
      ],
      "execution_count": 31,
      "outputs": []
    },
    {
      "cell_type": "markdown",
      "metadata": {
        "id": "2W1R03gK3mWg"
      },
      "source": [
        "**Using Vector in Expression**\n",
        "\n",
        "compute z^2 + 3 and check output"
      ]
    },
    {
      "cell_type": "code",
      "metadata": {
        "colab": {
          "base_uri": "https://localhost:8080/",
          "height": 51
        },
        "id": "N_x4nZD-2ifL",
        "outputId": "d7f7cd9f-e2cc-4e87-b3a7-fa5f718fbe2c"
      },
      "source": [
        "z\r\n",
        "z^2+3"
      ],
      "execution_count": 32,
      "outputs": [
        {
          "output_type": "display_data",
          "data": {
            "text/plain": [
              "[1] 3 6 5"
            ],
            "text/latex": "\\begin{enumerate*}\n\\item 3\n\\item 6\n\\item 5\n\\end{enumerate*}\n",
            "text/markdown": "1. 3\n2. 6\n3. 5\n\n\n",
            "text/html": [
              "<style>\n",
              ".list-inline {list-style: none; margin:0; padding: 0}\n",
              ".list-inline>li {display: inline-block}\n",
              ".list-inline>li:not(:last-child)::after {content: \"\\00b7\"; padding: 0 .5ex}\n",
              "</style>\n",
              "<ol class=list-inline><li>3</li><li>6</li><li>5</li></ol>\n"
            ]
          },
          "metadata": {
            "tags": []
          }
        },
        {
          "output_type": "display_data",
          "data": {
            "text/plain": [
              "[1] 12 39 28"
            ],
            "text/latex": "\\begin{enumerate*}\n\\item 12\n\\item 39\n\\item 28\n\\end{enumerate*}\n",
            "text/markdown": "1. 12\n2. 39\n3. 28\n\n\n",
            "text/html": [
              "<style>\n",
              ".list-inline {list-style: none; margin:0; padding: 0}\n",
              ".list-inline>li {display: inline-block}\n",
              ".list-inline>li:not(:last-child)::after {content: \"\\00b7\"; padding: 0 .5ex}\n",
              "</style>\n",
              "<ol class=list-inline><li>12</li><li>39</li><li>28</li></ol>\n"
            ]
          },
          "metadata": {
            "tags": []
          }
        }
      ]
    },
    {
      "cell_type": "markdown",
      "metadata": {
        "id": "C6Sl3d3m4Mpu"
      },
      "source": [
        "**Comman Arithmatic Operators in R**\n",
        "\n",
        "+, -, /, *, ^ are comman operators and sqrt, abs are arithmatic functions in R"
      ]
    },
    {
      "cell_type": "markdown",
      "metadata": {
        "id": "MhpNvKxD5b39"
      },
      "source": [
        "When given two vectors of the same length, R simply performs the specified arithmetic operation (`+`, `-`, `*` etc.) element-by-element. If the vectors are of different lengths, R 'recycles' the shorter vector until it is the same length as the longer vector.\n",
        "\n",
        "When we do z * 2 + 100, z is a vector of length 3, but technically 2 and 100 are each vectors of length 1."
      ]
    },
    {
      "cell_type": "code",
      "metadata": {
        "colab": {
          "base_uri": "https://localhost:8080/",
          "height": 51
        },
        "id": "ymnNvfCUJX__",
        "outputId": "3022d332-5c4e-42eb-db39-e28b07a18fb1"
      },
      "source": [
        "y<-rep(2,10)\n",
        "y\n",
        "length(y)"
      ],
      "execution_count": 33,
      "outputs": [
        {
          "output_type": "display_data",
          "data": {
            "text/plain": [
              " [1] 2 2 2 2 2 2 2 2 2 2"
            ],
            "text/latex": "\\begin{enumerate*}\n\\item 2\n\\item 2\n\\item 2\n\\item 2\n\\item 2\n\\item 2\n\\item 2\n\\item 2\n\\item 2\n\\item 2\n\\end{enumerate*}\n",
            "text/markdown": "1. 2\n2. 2\n3. 2\n4. 2\n5. 2\n6. 2\n7. 2\n8. 2\n9. 2\n10. 2\n\n\n",
            "text/html": [
              "<style>\n",
              ".list-inline {list-style: none; margin:0; padding: 0}\n",
              ".list-inline>li {display: inline-block}\n",
              ".list-inline>li:not(:last-child)::after {content: \"\\00b7\"; padding: 0 .5ex}\n",
              "</style>\n",
              "<ol class=list-inline><li>2</li><li>2</li><li>2</li><li>2</li><li>2</li><li>2</li><li>2</li><li>2</li><li>2</li><li>2</li></ol>\n"
            ]
          },
          "metadata": {
            "tags": []
          }
        },
        {
          "output_type": "display_data",
          "data": {
            "text/plain": [
              "[1] 10"
            ],
            "text/latex": "10",
            "text/markdown": "10",
            "text/html": [
              "10"
            ]
          },
          "metadata": {
            "tags": []
          }
        }
      ]
    },
    {
      "cell_type": "code",
      "metadata": {
        "colab": {
          "base_uri": "https://localhost:8080/",
          "height": 120
        },
        "id": "vENgSa6E32kc",
        "outputId": "3033264c-60e3-4375-ab36-704666acce54"
      },
      "source": [
        "# Does recycling explains output of following expression\n",
        "c(1, 2, 3, 4) + c(0, 10)\n",
        "c(1, 2, 3, 4) + c(0, 10, 0 ,10)\n",
        "c(1, 2, 3, 4, 5) + c(2, 10)\n",
        "c(1, 2, 3, 4, 5) + c(2, 10, 2, 10, 2)"
      ],
      "execution_count": 34,
      "outputs": [
        {
          "output_type": "display_data",
          "data": {
            "text/plain": [
              "[1]  1 12  3 14"
            ],
            "text/latex": "\\begin{enumerate*}\n\\item 1\n\\item 12\n\\item 3\n\\item 14\n\\end{enumerate*}\n",
            "text/markdown": "1. 1\n2. 12\n3. 3\n4. 14\n\n\n",
            "text/html": [
              "<style>\n",
              ".list-inline {list-style: none; margin:0; padding: 0}\n",
              ".list-inline>li {display: inline-block}\n",
              ".list-inline>li:not(:last-child)::after {content: \"\\00b7\"; padding: 0 .5ex}\n",
              "</style>\n",
              "<ol class=list-inline><li>1</li><li>12</li><li>3</li><li>14</li></ol>\n"
            ]
          },
          "metadata": {
            "tags": []
          }
        },
        {
          "output_type": "display_data",
          "data": {
            "text/plain": [
              "[1]  1 12  3 14"
            ],
            "text/latex": "\\begin{enumerate*}\n\\item 1\n\\item 12\n\\item 3\n\\item 14\n\\end{enumerate*}\n",
            "text/markdown": "1. 1\n2. 12\n3. 3\n4. 14\n\n\n",
            "text/html": [
              "<style>\n",
              ".list-inline {list-style: none; margin:0; padding: 0}\n",
              ".list-inline>li {display: inline-block}\n",
              ".list-inline>li:not(:last-child)::after {content: \"\\00b7\"; padding: 0 .5ex}\n",
              "</style>\n",
              "<ol class=list-inline><li>1</li><li>12</li><li>3</li><li>14</li></ol>\n"
            ]
          },
          "metadata": {
            "tags": []
          }
        },
        {
          "output_type": "stream",
          "text": [
            "Warning message in c(1, 2, 3, 4, 5) + c(2, 10):\n",
            "“longer object length is not a multiple of shorter object length”\n"
          ],
          "name": "stderr"
        },
        {
          "output_type": "display_data",
          "data": {
            "text/plain": [
              "[1]  3 12  5 14  7"
            ],
            "text/latex": "\\begin{enumerate*}\n\\item 3\n\\item 12\n\\item 5\n\\item 14\n\\item 7\n\\end{enumerate*}\n",
            "text/markdown": "1. 3\n2. 12\n3. 5\n4. 14\n5. 7\n\n\n",
            "text/html": [
              "<style>\n",
              ".list-inline {list-style: none; margin:0; padding: 0}\n",
              ".list-inline>li {display: inline-block}\n",
              ".list-inline>li:not(:last-child)::after {content: \"\\00b7\"; padding: 0 .5ex}\n",
              "</style>\n",
              "<ol class=list-inline><li>3</li><li>12</li><li>5</li><li>14</li><li>7</li></ol>\n"
            ]
          },
          "metadata": {
            "tags": []
          }
        },
        {
          "output_type": "display_data",
          "data": {
            "text/plain": [
              "[1]  3 12  5 14  7"
            ],
            "text/latex": "\\begin{enumerate*}\n\\item 3\n\\item 12\n\\item 5\n\\item 14\n\\item 7\n\\end{enumerate*}\n",
            "text/markdown": "1. 3\n2. 12\n3. 5\n4. 14\n5. 7\n\n\n",
            "text/html": [
              "<style>\n",
              ".list-inline {list-style: none; margin:0; padding: 0}\n",
              ".list-inline>li {display: inline-block}\n",
              ".list-inline>li:not(:last-child)::after {content: \"\\00b7\"; padding: 0 .5ex}\n",
              "</style>\n",
              "<ol class=list-inline><li>3</li><li>12</li><li>5</li><li>14</li><li>7</li></ol>\n"
            ]
          },
          "metadata": {
            "tags": []
          }
        }
      ]
    },
    {
      "cell_type": "markdown",
      "metadata": {
        "id": "WQW7cdOiUQGB"
      },
      "source": [
        "**How to access disk?** "
      ]
    },
    {
      "cell_type": "code",
      "metadata": {
        "id": "5lA714zl6KG3",
        "colab": {
          "base_uri": "https://localhost:8080/",
          "height": 34
        },
        "outputId": "aeff0051-7f13-4cb6-f190-5f4420a8c0ab"
      },
      "source": [
        "curdir<-getwd()\n",
        "curdir"
      ],
      "execution_count": 35,
      "outputs": [
        {
          "output_type": "display_data",
          "data": {
            "text/plain": [
              "[1] \"/content\""
            ],
            "text/latex": "'/content'",
            "text/markdown": "'/content'",
            "text/html": [
              "'/content'"
            ]
          },
          "metadata": {
            "tags": []
          }
        }
      ]
    },
    {
      "cell_type": "code",
      "metadata": {
        "colab": {
          "base_uri": "https://localhost:8080/",
          "height": 34
        },
        "id": "qfLiWY-f2bx3",
        "outputId": "331e678a-9114-41c9-9ef2-2f518e7a2aff"
      },
      "source": [
        "ls()"
      ],
      "execution_count": 36,
      "outputs": [
        {
          "output_type": "display_data",
          "data": {
            "text/plain": [
              "[1] \"b\"      \"c\"      \"curdir\" \"d\"      \"y\"      \"z\"      \"z1\"    "
            ],
            "text/latex": "\\begin{enumerate*}\n\\item 'b'\n\\item 'c'\n\\item 'curdir'\n\\item 'd'\n\\item 'y'\n\\item 'z'\n\\item 'z1'\n\\end{enumerate*}\n",
            "text/markdown": "1. 'b'\n2. 'c'\n3. 'curdir'\n4. 'd'\n5. 'y'\n6. 'z'\n7. 'z1'\n\n\n",
            "text/html": [
              "<style>\n",
              ".list-inline {list-style: none; margin:0; padding: 0}\n",
              ".list-inline>li {display: inline-block}\n",
              ".list-inline>li:not(:last-child)::after {content: \"\\00b7\"; padding: 0 .5ex}\n",
              "</style>\n",
              "<ol class=list-inline><li>'b'</li><li>'c'</li><li>'curdir'</li><li>'d'</li><li>'y'</li><li>'z'</li><li>'z1'</li></ol>\n"
            ]
          },
          "metadata": {
            "tags": []
          }
        }
      ]
    },
    {
      "cell_type": "code",
      "metadata": {
        "colab": {
          "base_uri": "https://localhost:8080/",
          "height": 34
        },
        "id": "ksWmlrly2nEP",
        "outputId": "5a6da409-3ffe-479e-ffb9-7dc030b181c9"
      },
      "source": [
        "#show you files in PWD\n",
        "list.files()\n",
        "#dir('.')"
      ],
      "execution_count": 38,
      "outputs": [
        {
          "output_type": "display_data",
          "data": {
            "text/plain": [
              "[1] \"myworkplace\" \"sample_data\""
            ],
            "text/latex": "\\begin{enumerate*}\n\\item 'myworkplace'\n\\item 'sample\\_data'\n\\end{enumerate*}\n",
            "text/markdown": "1. 'myworkplace'\n2. 'sample_data'\n\n\n",
            "text/html": [
              "<style>\n",
              ".list-inline {list-style: none; margin:0; padding: 0}\n",
              ".list-inline>li {display: inline-block}\n",
              ".list-inline>li:not(:last-child)::after {content: \"\\00b7\"; padding: 0 .5ex}\n",
              "</style>\n",
              "<ol class=list-inline><li>'myworkplace'</li><li>'sample_data'</li></ol>\n"
            ]
          },
          "metadata": {
            "tags": []
          }
        }
      ]
    },
    {
      "cell_type": "code",
      "metadata": {
        "colab": {
          "base_uri": "https://localhost:8080/",
          "height": 34
        },
        "id": "QkEscD2x3CnA",
        "outputId": "b562228e-95f8-4749-fbdc-1ff45f7addab"
      },
      "source": [
        "list.dirs('sample_data')"
      ],
      "execution_count": 39,
      "outputs": [
        {
          "output_type": "display_data",
          "data": {
            "text/plain": [
              "[1] \"sample_data\""
            ],
            "text/latex": "'sample\\_data'",
            "text/markdown": "'sample_data'",
            "text/html": [
              "'sample_data'"
            ]
          },
          "metadata": {
            "tags": []
          }
        }
      ]
    },
    {
      "cell_type": "code",
      "metadata": {
        "id": "Q_0Aq8xP3F2P"
      },
      "source": [
        "old_dir<-getwd()"
      ],
      "execution_count": 40,
      "outputs": []
    },
    {
      "cell_type": "code",
      "metadata": {
        "id": "qg_N6Ejx3krB"
      },
      "source": [
        "#creates a folder on ur device \n",
        "dir.create('test2')"
      ],
      "execution_count": 41,
      "outputs": []
    },
    {
      "cell_type": "code",
      "metadata": {
        "colab": {
          "base_uri": "https://localhost:8080/",
          "height": 51
        },
        "id": "sIkEEQaC38Mm",
        "outputId": "7d2fd2fc-3111-4e80-ef4f-960855a9444f"
      },
      "source": [
        "list.dirs()"
      ],
      "execution_count": 42,
      "outputs": [
        {
          "output_type": "display_data",
          "data": {
            "text/plain": [
              " [1] \".\"                         \"./.config\"                \n",
              " [3] \"./.config/configurations\"  \"./.config/logs\"           \n",
              " [5] \"./.config/logs/2021.03.01\" \"./myworkplace\"            \n",
              " [7] \"./myworkplace/exp1\"        \"./myworkplace/exp1/exp1\"  \n",
              " [9] \"./myworkplace/exp1/exp2\"   \"./myworkplace/exp2\"       \n",
              "[11] \"./sample_data\"             \"./test2\"                  "
            ],
            "text/latex": "\\begin{enumerate*}\n\\item '.'\n\\item './.config'\n\\item './.config/configurations'\n\\item './.config/logs'\n\\item './.config/logs/2021.03.01'\n\\item './myworkplace'\n\\item './myworkplace/exp1'\n\\item './myworkplace/exp1/exp1'\n\\item './myworkplace/exp1/exp2'\n\\item './myworkplace/exp2'\n\\item './sample\\_data'\n\\item './test2'\n\\end{enumerate*}\n",
            "text/markdown": "1. '.'\n2. './.config'\n3. './.config/configurations'\n4. './.config/logs'\n5. './.config/logs/2021.03.01'\n6. './myworkplace'\n7. './myworkplace/exp1'\n8. './myworkplace/exp1/exp1'\n9. './myworkplace/exp1/exp2'\n10. './myworkplace/exp2'\n11. './sample_data'\n12. './test2'\n\n\n",
            "text/html": [
              "<style>\n",
              ".list-inline {list-style: none; margin:0; padding: 0}\n",
              ".list-inline>li {display: inline-block}\n",
              ".list-inline>li:not(:last-child)::after {content: \"\\00b7\"; padding: 0 .5ex}\n",
              "</style>\n",
              "<ol class=list-inline><li>'.'</li><li>'./.config'</li><li>'./.config/configurations'</li><li>'./.config/logs'</li><li>'./.config/logs/2021.03.01'</li><li>'./myworkplace'</li><li>'./myworkplace/exp1'</li><li>'./myworkplace/exp1/exp1'</li><li>'./myworkplace/exp1/exp2'</li><li>'./myworkplace/exp2'</li><li>'./sample_data'</li><li>'./test2'</li></ol>\n"
            ]
          },
          "metadata": {
            "tags": []
          }
        }
      ]
    },
    {
      "cell_type": "code",
      "metadata": {
        "id": "JEZqFJwN4Bit",
        "colab": {
          "base_uri": "https://localhost:8080/",
          "height": 34
        },
        "outputId": "4ea8900f-23e4-4e1f-a94e-90422febbfc2"
      },
      "source": [
        "getwd()"
      ],
      "execution_count": 43,
      "outputs": [
        {
          "output_type": "display_data",
          "data": {
            "text/plain": [
              "[1] \"/content\""
            ],
            "text/latex": "'/content'",
            "text/markdown": "'/content'",
            "text/html": [
              "'/content'"
            ]
          },
          "metadata": {
            "tags": []
          }
        }
      ]
    },
    {
      "cell_type": "code",
      "metadata": {
        "colab": {
          "base_uri": "https://localhost:8080/",
          "height": 34
        },
        "id": "-4s6O4Bs4IrF",
        "outputId": "1c2b1b7a-3084-4c6d-b2c3-92eda82eef30"
      },
      "source": [
        "file.create('mytest.R')"
      ],
      "execution_count": 44,
      "outputs": [
        {
          "output_type": "display_data",
          "data": {
            "text/plain": [
              "[1] TRUE"
            ],
            "text/latex": "TRUE",
            "text/markdown": "TRUE",
            "text/html": [
              "TRUE"
            ]
          },
          "metadata": {
            "tags": []
          }
        }
      ]
    },
    {
      "cell_type": "code",
      "metadata": {
        "colab": {
          "base_uri": "https://localhost:8080/",
          "height": 34
        },
        "id": "7qFMXVAD4aJp",
        "outputId": "8371fbf4-5394-4160-d7ec-820f9a84698b"
      },
      "source": [
        "dir()"
      ],
      "execution_count": 45,
      "outputs": [
        {
          "output_type": "display_data",
          "data": {
            "text/plain": [
              "[1] \"mytest.R\"    \"myworkplace\" \"sample_data\" \"test2\"      "
            ],
            "text/latex": "\\begin{enumerate*}\n\\item 'mytest.R'\n\\item 'myworkplace'\n\\item 'sample\\_data'\n\\item 'test2'\n\\end{enumerate*}\n",
            "text/markdown": "1. 'mytest.R'\n2. 'myworkplace'\n3. 'sample_data'\n4. 'test2'\n\n\n",
            "text/html": [
              "<style>\n",
              ".list-inline {list-style: none; margin:0; padding: 0}\n",
              ".list-inline>li {display: inline-block}\n",
              ".list-inline>li:not(:last-child)::after {content: \"\\00b7\"; padding: 0 .5ex}\n",
              "</style>\n",
              "<ol class=list-inline><li>'mytest.R'</li><li>'myworkplace'</li><li>'sample_data'</li><li>'test2'</li></ol>\n"
            ]
          },
          "metadata": {
            "tags": []
          }
        }
      ]
    },
    {
      "cell_type": "code",
      "metadata": {
        "colab": {
          "base_uri": "https://localhost:8080/",
          "height": 51
        },
        "id": "haRUcBBT4kPf",
        "outputId": "c22d2466-cfbe-45f1-aceb-e8af1c261329"
      },
      "source": [
        "file.exists('/test2/mytest.R')\n",
        "file.exists('mytest.R')"
      ],
      "execution_count": 46,
      "outputs": [
        {
          "output_type": "display_data",
          "data": {
            "text/plain": [
              "[1] FALSE"
            ],
            "text/latex": "FALSE",
            "text/markdown": "FALSE",
            "text/html": [
              "FALSE"
            ]
          },
          "metadata": {
            "tags": []
          }
        },
        {
          "output_type": "display_data",
          "data": {
            "text/plain": [
              "[1] TRUE"
            ],
            "text/latex": "TRUE",
            "text/markdown": "TRUE",
            "text/html": [
              "TRUE"
            ]
          },
          "metadata": {
            "tags": []
          }
        }
      ]
    },
    {
      "cell_type": "code",
      "metadata": {
        "colab": {
          "base_uri": "https://localhost:8080/",
          "height": 127
        },
        "id": "254zalqu4r2-",
        "outputId": "d460e082-1d5d-436e-a9f1-0fb60fede2ef"
      },
      "source": [
        "file.info('./myTest.R')"
      ],
      "execution_count": 47,
      "outputs": [
        {
          "output_type": "display_data",
          "data": {
            "text/plain": [
              "           size isdir mode mtime ctime atime uid gid uname grname\n",
              "./myTest.R NA   NA    <NA> <NA>  <NA>  <NA>  NA  NA  NA    NA    "
            ],
            "text/latex": "A data.frame: 1 × 10\n\\begin{tabular}{r|llllllllll}\n  & size & isdir & mode & mtime & ctime & atime & uid & gid & uname & grname\\\\\n  & <dbl> & <lgl> & <octmode> & <dttm> & <dttm> & <dttm> & <int> & <int> & <chr> & <chr>\\\\\n\\hline\n\t./myTest.R & NA & NA & NA & NA & NA & NA & NA & NA & NA & NA\\\\\n\\end{tabular}\n",
            "text/markdown": "\nA data.frame: 1 × 10\n\n| <!--/--> | size &lt;dbl&gt; | isdir &lt;lgl&gt; | mode &lt;octmode&gt; | mtime &lt;dttm&gt; | ctime &lt;dttm&gt; | atime &lt;dttm&gt; | uid &lt;int&gt; | gid &lt;int&gt; | uname &lt;chr&gt; | grname &lt;chr&gt; |\n|---|---|---|---|---|---|---|---|---|---|---|\n| ./myTest.R | NA | NA | NA | NA | NA | NA | NA | NA | NA | NA |\n\n",
            "text/html": [
              "<table class=\"dataframe\">\n",
              "<caption>A data.frame: 1 × 10</caption>\n",
              "<thead>\n",
              "\t<tr><th></th><th scope=col>size</th><th scope=col>isdir</th><th scope=col>mode</th><th scope=col>mtime</th><th scope=col>ctime</th><th scope=col>atime</th><th scope=col>uid</th><th scope=col>gid</th><th scope=col>uname</th><th scope=col>grname</th></tr>\n",
              "\t<tr><th></th><th scope=col>&lt;dbl&gt;</th><th scope=col>&lt;lgl&gt;</th><th scope=col>&lt;octmode&gt;</th><th scope=col>&lt;dttm&gt;</th><th scope=col>&lt;dttm&gt;</th><th scope=col>&lt;dttm&gt;</th><th scope=col>&lt;int&gt;</th><th scope=col>&lt;int&gt;</th><th scope=col>&lt;chr&gt;</th><th scope=col>&lt;chr&gt;</th></tr>\n",
              "</thead>\n",
              "<tbody>\n",
              "\t<tr><th scope=row>./myTest.R</th><td>NA</td><td>NA</td><td>NA</td><td>NA</td><td>NA</td><td>NA</td><td>NA</td><td>NA</td><td>NA</td><td>NA</td></tr>\n",
              "</tbody>\n",
              "</table>\n"
            ]
          },
          "metadata": {
            "tags": []
          }
        }
      ]
    },
    {
      "cell_type": "code",
      "metadata": {
        "colab": {
          "base_uri": "https://localhost:8080/",
          "height": 34
        },
        "id": "Zpnce-Rn5KTs",
        "outputId": "d7ae81af-5cea-4c3c-afe2-9783444f03a7"
      },
      "source": [
        "file.rename('mytest.R','mytest2.R')"
      ],
      "execution_count": 48,
      "outputs": [
        {
          "output_type": "display_data",
          "data": {
            "text/plain": [
              "[1] TRUE"
            ],
            "text/latex": "TRUE",
            "text/markdown": "TRUE",
            "text/html": [
              "TRUE"
            ]
          },
          "metadata": {
            "tags": []
          }
        }
      ]
    },
    {
      "cell_type": "code",
      "metadata": {
        "colab": {
          "base_uri": "https://localhost:8080/",
          "height": 34
        },
        "id": "7z0Z3KOX5exz",
        "outputId": "5742a542-bf6a-4350-dfac-f9c2384ef539"
      },
      "source": [
        "dir()"
      ],
      "execution_count": 49,
      "outputs": [
        {
          "output_type": "display_data",
          "data": {
            "text/plain": [
              "[1] \"mytest2.R\"   \"myworkplace\" \"sample_data\" \"test2\"      "
            ],
            "text/latex": "\\begin{enumerate*}\n\\item 'mytest2.R'\n\\item 'myworkplace'\n\\item 'sample\\_data'\n\\item 'test2'\n\\end{enumerate*}\n",
            "text/markdown": "1. 'mytest2.R'\n2. 'myworkplace'\n3. 'sample_data'\n4. 'test2'\n\n\n",
            "text/html": [
              "<style>\n",
              ".list-inline {list-style: none; margin:0; padding: 0}\n",
              ".list-inline>li {display: inline-block}\n",
              ".list-inline>li:not(:last-child)::after {content: \"\\00b7\"; padding: 0 .5ex}\n",
              "</style>\n",
              "<ol class=list-inline><li>'mytest2.R'</li><li>'myworkplace'</li><li>'sample_data'</li><li>'test2'</li></ol>\n"
            ]
          },
          "metadata": {
            "tags": []
          }
        }
      ]
    },
    {
      "cell_type": "code",
      "metadata": {
        "colab": {
          "base_uri": "https://localhost:8080/",
          "height": 34
        },
        "id": "A0RhfnOe5hzW",
        "outputId": "8c8c2334-6b8b-4fe6-e9ad-22ef30e932d2"
      },
      "source": [
        "file.copy('mytest2.R','mytest3.R')"
      ],
      "execution_count": 50,
      "outputs": [
        {
          "output_type": "display_data",
          "data": {
            "text/plain": [
              "[1] TRUE"
            ],
            "text/latex": "TRUE",
            "text/markdown": "TRUE",
            "text/html": [
              "TRUE"
            ]
          },
          "metadata": {
            "tags": []
          }
        }
      ]
    },
    {
      "cell_type": "code",
      "metadata": {
        "colab": {
          "base_uri": "https://localhost:8080/",
          "height": 34
        },
        "id": "_BRKWKFp8kuV",
        "outputId": "a6b841cf-7021-483a-f8b0-60e80417952d"
      },
      "source": [
        "file.path('testdir2','testdir3')"
      ],
      "execution_count": 51,
      "outputs": [
        {
          "output_type": "display_data",
          "data": {
            "text/plain": [
              "[1] \"testdir2/testdir3\""
            ],
            "text/latex": "'testdir2/testdir3'",
            "text/markdown": "'testdir2/testdir3'",
            "text/html": [
              "'testdir2/testdir3'"
            ]
          },
          "metadata": {
            "tags": []
          }
        }
      ]
    },
    {
      "cell_type": "code",
      "metadata": {
        "id": "6oN630V6577F"
      },
      "source": [
        " dir.create(file.path('testdir2','testdir3'),recursive = TRUE)"
      ],
      "execution_count": 52,
      "outputs": []
    },
    {
      "cell_type": "code",
      "metadata": {
        "id": "lZIz4bXC7L1f",
        "colab": {
          "base_uri": "https://localhost:8080/",
          "height": 34
        },
        "outputId": "eac367b7-6934-46d0-883c-13f359973513"
      },
      "source": [
        "dir()"
      ],
      "execution_count": 53,
      "outputs": [
        {
          "output_type": "display_data",
          "data": {
            "text/plain": [
              "[1] \"mytest2.R\"   \"mytest3.R\"   \"myworkplace\" \"sample_data\" \"test2\"      \n",
              "[6] \"testdir2\"   "
            ],
            "text/latex": "\\begin{enumerate*}\n\\item 'mytest2.R'\n\\item 'mytest3.R'\n\\item 'myworkplace'\n\\item 'sample\\_data'\n\\item 'test2'\n\\item 'testdir2'\n\\end{enumerate*}\n",
            "text/markdown": "1. 'mytest2.R'\n2. 'mytest3.R'\n3. 'myworkplace'\n4. 'sample_data'\n5. 'test2'\n6. 'testdir2'\n\n\n",
            "text/html": [
              "<style>\n",
              ".list-inline {list-style: none; margin:0; padding: 0}\n",
              ".list-inline>li {display: inline-block}\n",
              ".list-inline>li:not(:last-child)::after {content: \"\\00b7\"; padding: 0 .5ex}\n",
              "</style>\n",
              "<ol class=list-inline><li>'mytest2.R'</li><li>'mytest3.R'</li><li>'myworkplace'</li><li>'sample_data'</li><li>'test2'</li><li>'testdir2'</li></ol>\n"
            ]
          },
          "metadata": {
            "tags": []
          }
        }
      ]
    },
    {
      "cell_type": "code",
      "metadata": {
        "id": "9eI0FKYV7Uqr"
      },
      "source": [
        "setwd('testdir2')"
      ],
      "execution_count": 54,
      "outputs": []
    },
    {
      "cell_type": "code",
      "metadata": {
        "colab": {
          "base_uri": "https://localhost:8080/",
          "height": 51
        },
        "id": "zU4Ed3KXX4oe",
        "outputId": "5c29495e-d863-4f62-cc44-cd27f1d52021"
      },
      "source": [
        "dir()\n",
        "getwd()"
      ],
      "execution_count": 55,
      "outputs": [
        {
          "output_type": "display_data",
          "data": {
            "text/plain": [
              "[1] \"testdir3\""
            ],
            "text/latex": "'testdir3'",
            "text/markdown": "'testdir3'",
            "text/html": [
              "'testdir3'"
            ]
          },
          "metadata": {
            "tags": []
          }
        },
        {
          "output_type": "display_data",
          "data": {
            "text/plain": [
              "[1] \"/content/testdir2\""
            ],
            "text/latex": "'/content/testdir2'",
            "text/markdown": "'/content/testdir2'",
            "text/html": [
              "'/content/testdir2'"
            ]
          },
          "metadata": {
            "tags": []
          }
        }
      ]
    },
    {
      "cell_type": "markdown",
      "metadata": {
        "id": "qM2e_KzXBjST"
      },
      "source": [
        "**Complete following tasks**\n",
        "\n",
        "Write R Code:\n",
        " \n",
        "\n",
        "1.    To create a directory named myworkplace in current working dirctory.\n",
        "2.   Create a folders/directories **exp1 and exp2** in it.\n",
        "3.   Navigate to **exp1** and create a file named **my_file.txt**. \n",
        "4.   Copy it to **my_file1.txt**\n",
        "5.   List files and folders in PWD and also in '/contents' directory  \n",
        "6.   Display only File access permisssion in the output for every file in **exp1** folder. "
      ]
    },
    {
      "cell_type": "code",
      "metadata": {
        "colab": {
          "base_uri": "https://localhost:8080/",
          "height": 51
        },
        "id": "3Wuco6w5YBjg",
        "outputId": "17e4d87d-c01c-4546-de47-193ee0d3c2b4"
      },
      "source": [
        "getwd()\n",
        "dir.create('myworkplace')\n",
        "getwd()"
      ],
      "execution_count": 56,
      "outputs": [
        {
          "output_type": "display_data",
          "data": {
            "text/plain": [
              "[1] \"/content/testdir2\""
            ],
            "text/latex": "'/content/testdir2'",
            "text/markdown": "'/content/testdir2'",
            "text/html": [
              "'/content/testdir2'"
            ]
          },
          "metadata": {
            "tags": []
          }
        },
        {
          "output_type": "display_data",
          "data": {
            "text/plain": [
              "[1] \"/content/testdir2\""
            ],
            "text/latex": "'/content/testdir2'",
            "text/markdown": "'/content/testdir2'",
            "text/html": [
              "'/content/testdir2'"
            ]
          },
          "metadata": {
            "tags": []
          }
        }
      ]
    },
    {
      "cell_type": "code",
      "metadata": {
        "colab": {
          "base_uri": "https://localhost:8080/",
          "height": 34
        },
        "id": "j7VhcBwcYGN-",
        "outputId": "3bc06115-ce6c-4ff8-984b-c41175389f46"
      },
      "source": [
        "setwd('myworkplace')\n",
        "getwd()"
      ],
      "execution_count": 57,
      "outputs": [
        {
          "output_type": "display_data",
          "data": {
            "text/plain": [
              "[1] \"/content/testdir2/myworkplace\""
            ],
            "text/latex": "'/content/testdir2/myworkplace'",
            "text/markdown": "'/content/testdir2/myworkplace'",
            "text/html": [
              "'/content/testdir2/myworkplace'"
            ]
          },
          "metadata": {
            "tags": []
          }
        }
      ]
    },
    {
      "cell_type": "code",
      "metadata": {
        "id": "wuUyas5HYMGX"
      },
      "source": [
        "dir.create('exp1')\n",
        "dir.create('exp2')\n",
        "setwd('exp1')"
      ],
      "execution_count": 58,
      "outputs": []
    },
    {
      "cell_type": "code",
      "metadata": {
        "colab": {
          "base_uri": "https://localhost:8080/",
          "height": 34
        },
        "id": "qUcFPN5lYPzi",
        "outputId": "43f31338-b213-4922-a735-5704cc3e6683"
      },
      "source": [
        "getwd()"
      ],
      "execution_count": 59,
      "outputs": [
        {
          "output_type": "display_data",
          "data": {
            "text/plain": [
              "[1] \"/content/testdir2/myworkplace/exp1\""
            ],
            "text/latex": "'/content/testdir2/myworkplace/exp1'",
            "text/markdown": "'/content/testdir2/myworkplace/exp1'",
            "text/html": [
              "'/content/testdir2/myworkplace/exp1'"
            ]
          },
          "metadata": {
            "tags": []
          }
        }
      ]
    },
    {
      "cell_type": "code",
      "metadata": {
        "colab": {
          "base_uri": "https://localhost:8080/",
          "height": 34
        },
        "id": "6rbuUewbYSrg",
        "outputId": "7262d4e4-ac8d-4d03-f9cf-3487e2ac26a2"
      },
      "source": [
        "file.create('my_file.txt')"
      ],
      "execution_count": 60,
      "outputs": [
        {
          "output_type": "display_data",
          "data": {
            "text/plain": [
              "[1] TRUE"
            ],
            "text/latex": "TRUE",
            "text/markdown": "TRUE",
            "text/html": [
              "TRUE"
            ]
          },
          "metadata": {
            "tags": []
          }
        }
      ]
    },
    {
      "cell_type": "code",
      "metadata": {
        "colab": {
          "base_uri": "https://localhost:8080/",
          "height": 34
        },
        "id": "_GU1k9wZYVbM",
        "outputId": "920220e2-7f41-47e4-9fed-28fc7d5050cc"
      },
      "source": [
        "file.copy('my_file.txt','my_file1.txt')"
      ],
      "execution_count": 61,
      "outputs": [
        {
          "output_type": "display_data",
          "data": {
            "text/plain": [
              "[1] TRUE"
            ],
            "text/latex": "TRUE",
            "text/markdown": "TRUE",
            "text/html": [
              "TRUE"
            ]
          },
          "metadata": {
            "tags": []
          }
        }
      ]
    },
    {
      "cell_type": "code",
      "metadata": {
        "colab": {
          "base_uri": "https://localhost:8080/",
          "height": 34
        },
        "id": "Q3AEbvcDYZiC",
        "outputId": "8dc23267-b76e-43c8-80e7-4ccea15a02ee"
      },
      "source": [
        "list.files()"
      ],
      "execution_count": 62,
      "outputs": [
        {
          "output_type": "display_data",
          "data": {
            "text/plain": [
              "[1] \"my_file.txt\"  \"my_file1.txt\""
            ],
            "text/latex": "\\begin{enumerate*}\n\\item 'my\\_file.txt'\n\\item 'my\\_file1.txt'\n\\end{enumerate*}\n",
            "text/markdown": "1. 'my_file.txt'\n2. 'my_file1.txt'\n\n\n",
            "text/html": [
              "<style>\n",
              ".list-inline {list-style: none; margin:0; padding: 0}\n",
              ".list-inline>li {display: inline-block}\n",
              ".list-inline>li:not(:last-child)::after {content: \"\\00b7\"; padding: 0 .5ex}\n",
              "</style>\n",
              "<ol class=list-inline><li>'my_file.txt'</li><li>'my_file1.txt'</li></ol>\n"
            ]
          },
          "metadata": {
            "tags": []
          }
        }
      ]
    },
    {
      "cell_type": "code",
      "metadata": {
        "colab": {
          "base_uri": "https://localhost:8080/",
          "height": 34
        },
        "id": "NVM9qp7-YcjV",
        "outputId": "195181bf-0661-42cb-8a87-88b383f3a69e"
      },
      "source": [
        "setwd('/content')\n",
        "getwd()"
      ],
      "execution_count": 63,
      "outputs": [
        {
          "output_type": "display_data",
          "data": {
            "text/plain": [
              "[1] \"/content\""
            ],
            "text/latex": "'/content'",
            "text/markdown": "'/content'",
            "text/html": [
              "'/content'"
            ]
          },
          "metadata": {
            "tags": []
          }
        }
      ]
    },
    {
      "cell_type": "code",
      "metadata": {
        "colab": {
          "base_uri": "https://localhost:8080/",
          "height": 34
        },
        "id": "r6AqdJPbYfZ5",
        "outputId": "112ca3a4-1d4b-494a-84ce-6e01d26909b5"
      },
      "source": [
        "list.files()"
      ],
      "execution_count": 64,
      "outputs": [
        {
          "output_type": "display_data",
          "data": {
            "text/plain": [
              "[1] \"mytest2.R\"   \"mytest3.R\"   \"myworkplace\" \"sample_data\" \"test2\"      \n",
              "[6] \"testdir2\"   "
            ],
            "text/latex": "\\begin{enumerate*}\n\\item 'mytest2.R'\n\\item 'mytest3.R'\n\\item 'myworkplace'\n\\item 'sample\\_data'\n\\item 'test2'\n\\item 'testdir2'\n\\end{enumerate*}\n",
            "text/markdown": "1. 'mytest2.R'\n2. 'mytest3.R'\n3. 'myworkplace'\n4. 'sample_data'\n5. 'test2'\n6. 'testdir2'\n\n\n",
            "text/html": [
              "<style>\n",
              ".list-inline {list-style: none; margin:0; padding: 0}\n",
              ".list-inline>li {display: inline-block}\n",
              ".list-inline>li:not(:last-child)::after {content: \"\\00b7\"; padding: 0 .5ex}\n",
              "</style>\n",
              "<ol class=list-inline><li>'mytest2.R'</li><li>'mytest3.R'</li><li>'myworkplace'</li><li>'sample_data'</li><li>'test2'</li><li>'testdir2'</li></ol>\n"
            ]
          },
          "metadata": {
            "tags": []
          }
        }
      ]
    },
    {
      "cell_type": "code",
      "metadata": {
        "colab": {
          "base_uri": "https://localhost:8080/",
          "height": 51
        },
        "id": "LtAzDebDYlWk",
        "outputId": "14dbe4ca-eaf9-4ebc-8518-8e18e02bb5fe"
      },
      "source": [
        "setwd('/content/testdir2/myworkplace/exp1')\n",
        "file.access('my_file.txt')\n",
        "file.access('my_file1.txt')"
      ],
      "execution_count": 66,
      "outputs": [
        {
          "output_type": "display_data",
          "data": {
            "text/plain": [
              "my_file.txt \n",
              "          0 "
            ],
            "text/latex": "\\textbf{my\\textbackslash{}\\_file.txt:} 0",
            "text/markdown": "**my_file.txt:** 0",
            "text/html": [
              "<strong>my_file.txt:</strong> 0"
            ]
          },
          "metadata": {
            "tags": []
          }
        },
        {
          "output_type": "display_data",
          "data": {
            "text/plain": [
              "my_file1.txt \n",
              "           0 "
            ],
            "text/latex": "\\textbf{my\\textbackslash{}\\_file1.txt:} 0",
            "text/markdown": "**my_file1.txt:** 0",
            "text/html": [
              "<strong>my_file1.txt:</strong> 0"
            ]
          },
          "metadata": {
            "tags": []
          }
        }
      ]
    }
  ]
}